{
  "nbformat": 4,
  "nbformat_minor": 0,
  "metadata": {
    "colab": {
      "provenance": [],
      "name": "examples.ipynb",
      "authorship_tag": "ABX9TyMlHcyIK+FwhpBpW8u9jIE0",
      "include_colab_link": true
    },
    "kernelspec": {
      "name": "python3",
      "display_name": "Python 3"
    },
    "language_info": {
      "name": "python"
    }
  },
  "cells": [
    {
      "cell_type": "markdown",
      "metadata": {
        "id": "view-in-github",
        "colab_type": "text"
      },
      "source": [
        "<a href=\"https://colab.research.google.com/github/elleish/apertium_lexc_tools/blob/main/examples.ipynb\" target=\"_parent\"><img src=\"https://colab.research.google.com/assets/colab-badge.svg\" alt=\"Open In Colab\"/></a>"
      ]
    },
    {
      "cell_type": "markdown",
      "source": [
        "### Python morphological generator based on apertium\n",
        "\n",
        "<ul><li>Apertium git <a href=\"https://github.com/apertium/apertium-sah\">github.com/apertium/apertium-sah</a></li>\n",
        "<li>Apertium online service <a href=\"https://beta.apertium.org/index.eng.html#analysis?aLang=sah\">beta.apertium.org</a></li>\n",
        "<li>Apertium explained <a href=\"https://blogs.helsinki.fi/language-technology/files/2016/09/FINMT2016-francis-tyers.pdf\">blogs.helsinki.fi/language-technology</a></li>\n",
        "<li>Starting a new language with HFST <a href=\"https://wiki.apertium.org/wiki/Starting_a_new_language_with_HFST\">wiki.apertium.org</a>\n",
        "</ul>"
      ],
      "metadata": {
        "id": "ELxT4tfYEKml"
      }
    },
    {
      "cell_type": "code",
      "execution_count": 1,
      "metadata": {
        "colab": {
          "base_uri": "https://localhost:8080/"
        },
        "id": "Z_eMZ_PbPOm-",
        "outputId": "f08b730e-4e21-485c-91ad-1bcce7c719f1"
      },
      "outputs": [
        {
          "output_type": "stream",
          "name": "stdout",
          "text": [
            "Cloning into 'apertium_lexc_tools'...\n",
            "warning: redirecting to https://github.com/elleish/apertium_lexc_tools/\n",
            "remote: Enumerating objects: 86, done.\u001b[K\n",
            "remote: Counting objects: 100% (86/86), done.\u001b[K\n",
            "remote: Compressing objects: 100% (79/79), done.\u001b[K\n",
            "remote: Total 86 (delta 49), reused 14 (delta 7), pack-reused 0\u001b[K\n",
            "Receiving objects: 100% (86/86), 64.67 KiB | 2.69 MiB/s, done.\n",
            "Resolving deltas: 100% (49/49), done.\n"
          ]
        }
      ],
      "source": [
        "!git clone http://github.com/elleish/apertium_lexc_tools"
      ]
    },
    {
      "cell_type": "code",
      "source": [
        "import apertium_lexc_tools.lexc_parser as lp\n",
        "Sakha = lp.download('Sakha')\n",
        "tree = lp.Tree(Sakha)"
      ],
      "metadata": {
        "id": "tju3jncpPXSY",
        "colab": {
          "base_uri": "https://localhost:8080/"
        },
        "outputId": "ab3ba683-17e3-44ad-e592-de8166e8cddb"
      },
      "execution_count": 2,
      "outputs": [
        {
          "output_type": "stream",
          "name": "stdout",
          "text": [
            "The .lexc file of  Sakha downloaded from https://raw.githubusercontent.com/apertium/apertium-sah/master/apertium-sah.sah.lexc\n"
          ]
        }
      ]
    },
    {
      "cell_type": "code",
      "source": [
        "print('------------------------------------')\n",
        "print('Parts of speech')\n",
        "print('------------------------------------')\n",
        "print(tree.tree['Root'])"
      ],
      "metadata": {
        "id": "BrC77toLD7kg",
        "colab": {
          "base_uri": "https://localhost:8080/"
        },
        "outputId": "711a5370-25f3-42ec-abcb-8cbe036d9ea8"
      },
      "execution_count": 4,
      "outputs": [
        {
          "output_type": "stream",
          "name": "stdout",
          "text": [
            "------------------------------------\n",
            "Parts of speech\n",
            "------------------------------------\n",
            "['Miscellaneous', 'Copula', 'Conjunctions', 'Postpositions', 'Determiners', 'Pronouns', 'Numerals', 'Nouns', 'ProperNouns', 'Adjectives', 'Adverbs', 'Verbs', 'Interjections', 'Abbreviations', 'Punctuation', 'Digits', 'Guesser', 'Modals']\n"
          ]
        }
      ]
    },
    {
      "cell_type": "code",
      "source": [
        "print('------------------------------------')\n",
        "print('Count the lemmas in a specific part of speech')\n",
        "print('------------------------------------')\n",
        "print(len(tree.tree['Nouns']))"
      ],
      "metadata": {
        "colab": {
          "base_uri": "https://localhost:8080/"
        },
        "id": "CdcD1Y4Qr3XI",
        "outputId": "fcb347cf-35d9-42b8-8c42-12e99b3f41b2"
      },
      "execution_count": 5,
      "outputs": [
        {
          "output_type": "stream",
          "name": "stdout",
          "text": [
            "------------------------------------\n",
            "Count the lemmas in a specific part of speech\n",
            "------------------------------------\n",
            "12890\n"
          ]
        }
      ]
    },
    {
      "cell_type": "code",
      "source": [
        "print('------------------------------------')\n",
        "print('List of tree nodes')\n",
        "print('------------------------------------')\n",
        "print(tree.tree.keys())"
      ],
      "metadata": {
        "colab": {
          "base_uri": "https://localhost:8080/"
        },
        "id": "rIzCAMlCr5yg",
        "outputId": "c889890f-505c-4c7a-845c-f571f039487b"
      },
      "execution_count": 6,
      "outputs": [
        {
          "output_type": "stream",
          "name": "stdout",
          "text": [
            "------------------------------------\n",
            "List of tree nodes\n",
            "------------------------------------\n",
            "dict_keys(['__empty', 'Multichar_Symbols', 'Root', 'CLIT-EMPH', 'CLITICS-NO-COP', 'CLITICS-INCL-COP', 'COPULA', 'CASES-OBL', 'CASES-POSS-3SP', 'CASES-POSS-12SG', 'CASES-NOM', 'POSS-OBL', 'POSS-PX3PL-OBL-SG', 'POSS-PX3PL-OBL-PL', 'POSS-OBL-PL', 'POSS-OBL-SG', 'POSS-NOM', 'POSS-NOM-ENDINGS', 'POSS-PX3PL-NOM-SG', 'POSS-PX3PL-NOM-PL', 'POSS-NOM-PL', 'POSS-NOM-SG', 'ATTR-SUBST', 'GENPOSS-ETC', 'CASES-ETC', 'N-INFL-COMMON-SG', 'N-INFL-COMMON-PL', 'CASES', 'GER-SUBST', 'GER-SUBST-NOM', 'SUBST', 'LII-POSTPOSITION', 'FULL-NOMINAL-INFLECTION', 'N1', 'N1-IRREG-PL', 'N-COMPOUND-PX-COMMON', 'N5', 'NP-COMMON', 'NP-ANT-M', 'NP-ANT-F', 'NP-PAT-VICH', 'NP-COG-OBIN-FEM', 'NP-COG-OB', 'NP-COG-IN', 'NP-COG-M', 'NP-COG-MF', 'NP-PAT-M', 'NP-TOP', 'NP-TOP-RUS', 'NP-TOP-ASSR', 'NP-TOP-COMPOUND', 'NP-TOP-ABBR', 'NP-ORG', 'NP-AL', 'A1', 'A2', 'A3', 'A4', 'A9', 'NUM', 'NUM-DIGIT', 'NUM-ORD', 'NUM-COLL', 'NUM-ROMAN', 'PRON-MIN', 'PRON-EN', 'PRON-KINI', 'PRON-BIHIGI', 'PRON-EHIGI', 'PRON-KINILER', 'PRON-DEM-BU-COMMON', 'PRON-DEM-BU', 'PRON-DEM-SUBU', 'PRON-DEM-OL-COMMON', 'PRON-DEM-OL', 'PRON-DEM-SOL', 'PRON-DEM-ITI', 'PRON-ITG-TUOH', 'PRON-NEG-TUOH_DA', 'PRON-ITG', 'PRON-QNT', 'V-PERS-S1', 'V-PERS-S1-P3', 'V-PERS-S1-P12', 'V-PERS-S2', 'V-PERS-IFI', 'V-PERS-NEGFUT', 'V-IMP', 'V-IMP-P3', 'V-IMP-P12', 'V-FINITE-REGULAR_NEGATIVE', 'V-FINITE-IRREGULAR_NEGATIVE', 'V-NONFINITE-REGULAR_NEGATIVE', 'V-NONFINITE-IRREGULAR_NEGATIVE', 'V-COMMON', 'V-DER', 'V-PASS', 'V-TV', 'V-IV', 'V-AUX', 'KI', 'ADV-WITH-KI', 'ADV-ITG', 'ADV', 'ADV-DIK', 'POSTADV', 'CC', 'CA', 'CS', 'POST', 'DET-DEM', 'DET-ITG', 'DET-QNT', 'DET-IND', 'INTERJ', 'MOD', 'ABBR', 'ABBR-INIT', 'Miscellaneous', 'Copula', 'Conjunctions', 'Postpositions', 'Pronouns', 'Determiners', 'Numerals', 'Modals', 'Nouns', 'ProperNouns', 'Adjectives', 'Adverbs', 'Verbs', 'Interjections', 'Abbreviations', 'Punctuation', 'LASTDIGIT', 'LASTDIGIT-REST', 'POWERS', 'LOOP', 'DIGITLEX', 'NP-UNK', 'GUESS-QUEUE'])\n"
          ]
        }
      ]
    },
    {
      "cell_type": "code",
      "source": [
        "print('------------------------------------')\n",
        "print('N1')\n",
        "print('------------------------------------')\n",
        "print(tree.print_tree('N1', depth_restrict=3))"
      ],
      "metadata": {
        "colab": {
          "base_uri": "https://localhost:8080/"
        },
        "id": "RPvKB0lZr736",
        "outputId": "d2474279-9c75-4390-c04e-a651f84ba302"
      },
      "execution_count": 7,
      "outputs": [
        {
          "output_type": "stream",
          "name": "stdout",
          "text": [
            "------------------------------------\n",
            "N1\n",
            "------------------------------------\n",
            "┠── <n> :  SUBST\n",
            "┃  ┠── <n> :  N-INFL-COMMON-SG\n",
            "┃  ┃  ┠── <n> :  POSS-NOM-SG\n",
            "┃  ┃  ┠── <n> :  POSS-OBL-SG\n",
            "┃  ┃  ┖── <n> :  CASES\n",
            "┃  ┖── <n><pl> : >{L}{A}р N-INFL-COMMON-PL\n",
            "┃  ┃  ┠── <n><pl> : >{L}{A}р POSS-NOM-PL\n",
            "┃  ┃  ┠── <n><pl> : >{L}{A}р POSS-OBL-PL\n",
            "┃  ┃  ┖── <n><pl> : >{L}{A}р CASES\n",
            "┖── <n> :  LII-POSTPOSITION\n",
            "┃  ┖── <n>+лыы<post> : >{L}{I}{I} \n",
            "None\n"
          ]
        }
      ]
    },
    {
      "cell_type": "code",
      "source": [
        "print('------------------------------------')\n",
        "print('V-IV')\n",
        "print('------------------------------------')\n",
        "print(tree.print_tree('V-IV', depth_restrict=3))"
      ],
      "metadata": {
        "colab": {
          "base_uri": "https://localhost:8080/"
        },
        "id": "bQvUReFur9Gj",
        "outputId": "fc9e786b-9f31-4e79-e3d6-d3a1f20ba5ba"
      },
      "execution_count": 8,
      "outputs": [
        {
          "output_type": "stream",
          "name": "stdout",
          "text": [
            "------------------------------------\n",
            "V-IV\n",
            "------------------------------------\n",
            "┠── <v><iv> :  V-COMMON\n",
            "┃  ┠── <v><iv> :  V-FINITE-REGULAR_NEGATIVE\n",
            "┃  ┃  ┖── <v><iv><ifi> : >{T} V-PERS-IFI\n",
            "┃  ┠── <v><iv><neg> : >{B}{A} V-FINITE-REGULAR_NEGATIVE\n",
            "┃  ┃  ┖── <v><iv><neg><ifi> : >{B}{A}>{T} V-PERS-IFI\n",
            "┃  ┠── <v><iv> :  V-FINITE-IRREGULAR_NEGATIVE\n",
            "┃  ┃  ┠── <v><iv><aor> : >{A}{р} V-PERS-S1\n",
            "┃  ┃  ┠── <v><iv><neg><aor> : >{B}{A}т V-PERS-S1\n",
            "┃  ┃  ┠── <v><iv><past> : >{B}{I}т V-PERS-S1\n",
            "┃  ┃  ┠── <v><iv><neg><past> : >{B}{A}т{A}х V-PERS-S1\n",
            "┃  ┃  ┠── <v><iv><plu> : >{B}{I}т V-PERS-S2\n",
            "┃  ┃  ┠── <v><iv><neg><plu> : >{B}{A}т{A}х V-PERS-S2\n",
            "┃  ┃  ┠── <v><iv><pii> : >{A}{Р} V-PERS-S2\n",
            "┃  ┃  ┠── <v><iv><neg><pii> : >{B}{A}т V-PERS-S2\n",
            "┃  ┃  ┠── <v><iv><epis> : >{B}{I}тт{A}{A}х V-PERS-S1\n",
            "┃  ┃  ┠── <v><iv><aor><nec> : >{A}р>д{A}{A}х V-PERS-S1\n",
            "┃  ┃  ┠── <v><iv><fut><nec> : >{I}{A}х>т{A}{A}х V-PERS-S1\n",
            "┃  ┃  ┠── <v><iv><past><ded> : >{T}{A}х V-PERS-S2\n",
            "┃  ┃  ┠── <v><iv><fut> : >{I}{A}х V-PERS-S2\n",
            "┃  ┃  ┠── <v><iv><neg><fut> : >{I}{A} V-PERS-NEGFUT\n",
            "┃  ┃  ┠── <v><iv><hab> : >{A}{A}чч{I} V-PERS-S1\n",
            "┃  ┃  ┠── <v><iv><abes> : >{B}{A}кк{A} V-PERS-S1\n",
            "┃  ┃  ┠── <v><iv><cert> : >{I}м{I}н{A} V-PERS-S1\n",
            "┃  ┃  ┠── <v><iv><pot> : >{I}{I}һ{I} V-PERS-S2\n",
            "┃  ┃  ┠── <v><iv><neg><pot> : >{I}м>{I}{I}һ{I} V-PERS-S2\n",
            "┃  ┃  ┠── <v><iv><poss> : >{A}{A}й{A} V-PERS-S1-P12\n",
            "┃  ┃  ┠── <v><iv><poss> : >{A}{A}р{A}й V-PERS-S1-P3\n",
            "┃  ┃  ┠── <v><iv><neg><poss> : >{I}м>{A}{A}й{A} V-PERS-S1-P12\n",
            "┃  ┃  ┖── <v><iv><neg><poss> : >{I}м>{A}{A}р{A}й V-PERS-S1-P3\n",
            "┃  ┠── <v><iv> :  V-NONFINITE-REGULAR_NEGATIVE\n",
            "┃  ┃  ┠── <v><iv><gna_cond> : >{T}{A}р V-PERS-S1\n",
            "┃  ┃  ┖── <v><iv><ger_cond> : >{T}{A}х GER-SUBST\n",
            "┃  ┠── <v><iv><neg> : >{B}{A} V-NONFINITE-REGULAR_NEGATIVE\n",
            "┃  ┃  ┠── <v><iv><neg><gna_cond> : >{B}{A}>{T}{A}р V-PERS-S1\n",
            "┃  ┃  ┖── <v><iv><neg><ger_cond> : >{B}{A}>{T}{A}х GER-SUBST\n",
            "┃  ┠── <v><iv> :  V-NONFINITE-IRREGULAR_NEGATIVE\n",
            "┃  ┃  ┠── <v><iv><prc_aor> : >{A}{р} \n",
            "┃  ┃  ┠── <v><iv><prc_impf> : >{A} \n",
            "┃  ┃  ┠── <v><iv><neg><prc_impf> : >{I}м{I}н{A} \n",
            "┃  ┃  ┠── <v><iv><gna_impf> : >{A} \n",
            "┃  ┃  ┠── <v><iv><neg><gna_impf> : >{I}м{I}н{A} \n",
            "┃  ┃  ┠── <v><iv><gna_perf> : >{a}н \n",
            "┃  ┃  ┠── <v><iv><neg><gna_perf> : >{I}м{I}н{A} \n",
            "┃  ┃  ┠── <v><iv><prc_perf> : >{a}н \n",
            "┃  ┃  ┠── <v><iv><neg><prc_perf> : >{I}м{I}н{A} \n",
            "┃  ┃  ┠── <v><iv><gna_abes> : >{B}{A}кк{A} \n",
            "┃  ┃  ┠── <v><iv><gna_caus> : >{B}{I}чч{A} \n",
            "┃  ┃  ┠── <v><iv><gna_plan> : >{A}{A}р{I} \n",
            "┃  ┃  ┠── <v><iv><gna_plan> : >{A}{A}р{I} V-PERS-S1\n",
            "┃  ┃  ┠── <v><iv><gna_suc> : >{A}{A}т \n",
            "┃  ┃  ┠── <v><iv><neg><gna_suc> : >{I}м>{A}{A}т \n",
            "┃  ┃  ┠── <v><iv><ger_aor> : >{A}р GER-SUBST\n",
            "┃  ┃  ┠── <v><iv><neg><ger_aor> : >{B}{A}т GER-SUBST\n",
            "┃  ┃  ┠── <v><iv><ger> : >{H}{I}{Н} GER-SUBST\n",
            "┃  ┃  ┠── <v><iv><ger_past> : >{B}{I}т GER-SUBST\n",
            "┃  ┃  ┠── <v><iv><neg><ger_past> : >{B}{A}т{A}х GER-SUBST\n",
            "┃  ┃  ┠── <v><iv><gpr_past> : >{B}{I}т \n",
            "┃  ┃  ┠── <v><iv><neg><gpr_past> : >{B}{A}т{A}х \n",
            "┃  ┃  ┠── <v><iv><ger_pot> : >{I}{A} GER-SUBST-NOM\n",
            "┃  ┃  ┠── <v><iv><ger_fut> : >{I}{A}х GER-SUBST\n",
            "┃  ┃  ┠── <v><iv><neg><ger_fut> : >{I}м>{I}{A}х GER-SUBST\n",
            "┃  ┃  ┠── <v><iv><ger_hab> : >{A}{A}чч{I} GER-SUBST\n",
            "┃  ┃  ┠── <v><iv><ger_nec> : >{I}{A}х>т{A}{A}х GER-SUBST\n",
            "┃  ┖── <v><iv> :  V-IMP\n",
            "┃  ┃  ┠── <v><iv><imp> :  V-IMP-P12\n",
            "┃  ┃  ┠── <v><iv><imp> :  V-IMP-P3\n",
            "┃  ┃  ┠── <v><iv><neg><imp> : >{i}м{A} V-IMP-P12\n",
            "┃  ┃  ┖── <v><iv><neg><imp> : >{B}{A} V-IMP-P3\n",
            "┖── <v><tv> :  V-DER\n",
            "┃  ┖── <v><tv><coop> : >{I}с V-COMMON\n",
            "┃  ┃  ┠── <v><tv><coop> : >{I}с V-FINITE-REGULAR_NEGATIVE\n",
            "┃  ┃  ┠── <v><tv><coop><neg> : >{I}с>{B}{A} V-FINITE-REGULAR_NEGATIVE\n",
            "┃  ┃  ┠── <v><tv><coop> : >{I}с V-FINITE-IRREGULAR_NEGATIVE\n",
            "┃  ┃  ┠── <v><tv><coop> : >{I}с V-NONFINITE-REGULAR_NEGATIVE\n",
            "┃  ┃  ┠── <v><tv><coop><neg> : >{I}с>{B}{A} V-NONFINITE-REGULAR_NEGATIVE\n",
            "┃  ┃  ┠── <v><tv><coop> : >{I}с V-NONFINITE-IRREGULAR_NEGATIVE\n",
            "┃  ┃  ┖── <v><tv><coop> : >{I}с V-IMP\n",
            "None\n"
          ]
        }
      ]
    },
    {
      "cell_type": "code",
      "source": [
        "print('------------------------------------')\n",
        "print('N1')\n",
        "print('------------------------------------')\n",
        "print(tree.print_tree('N1', depth_restrict=16))"
      ],
      "metadata": {
        "id": "O8lHgsRPt_KX",
        "outputId": "26d24ff8-f55b-4857-fe4a-a3888c5733a8",
        "colab": {
          "base_uri": "https://localhost:8080/"
        }
      },
      "execution_count": 9,
      "outputs": [
        {
          "output_type": "stream",
          "name": "stdout",
          "text": [
            "------------------------------------\n",
            "N1\n",
            "------------------------------------\n",
            "┠── <n> :  SUBST\n",
            "┃  ┠── <n> :  N-INFL-COMMON-SG\n",
            "┃  ┃  ┠── <n> :  POSS-NOM-SG\n",
            "┃  ┃  ┃  ┠── <n> :  POSS-NOM\n",
            "┃  ┃  ┃  ┃  ┠── <n> :  CASES-ETC\n",
            "┃  ┃  ┃  ┃  ┃  ┖── <n> :  GENPOSS-ETC\n",
            "┃  ┃  ┃  ┃  ┃  ┃  ┖── <n><loc> : >{T}{A}{A}ҕ{I} ATTR-SUBST\n",
            "┃  ┃  ┃  ┃  ┃  ┃  ┃  ┠── <n><loc><subst> : >{T}{A}{A}ҕ{I} CASES-NOM\n",
            "┃  ┃  ┃  ┃  ┃  ┃  ┃  ┃  ┖── <n><loc><subst><nom> : >{T}{A}{A}ҕ{I} \n",
            "┃  ┃  ┃  ┃  ┃  ┃  ┃  ┠── <n><loc><subst> : >{T}{A}{A}ҕ{I} CASES-OBL\n",
            "┃  ┃  ┃  ┃  ┃  ┃  ┃  ┠── <n><loc><subst><pl> : >{T}{A}{A}ҕ{I}>{L}{A}р CASES-NOM\n",
            "┃  ┃  ┃  ┃  ┃  ┃  ┃  ┃  ┖── <n><loc><subst><pl><nom> : >{T}{A}{A}ҕ{I}>{L}{A}р \n",
            "┃  ┃  ┃  ┃  ┃  ┃  ┃  ┖── <n><loc><subst><pl> : >{T}{A}{A}ҕ{I}>{L}{A}р CASES-OBL\n",
            "┃  ┃  ┃  ┃  ┖── <n> :  POSS-NOM-ENDINGS\n",
            "┃  ┃  ┃  ┃  ┃  ┠── <n><px1sg> : >{i}м CASES-NOM\n",
            "┃  ┃  ┃  ┃  ┃  ┃  ┖── <n><px1sg><nom> : >{i}м \n",
            "┃  ┃  ┃  ┃  ┃  ┠── <n><px2sg> : >{i}ҥ CASES-NOM\n",
            "┃  ┃  ┃  ┃  ┃  ┃  ┖── <n><px2sg><nom> : >{i}ҥ \n",
            "┃  ┃  ┃  ┃  ┃  ┠── <n><px1pl> : >{B}{I}т CASES-NOM\n",
            "┃  ┃  ┃  ┃  ┃  ┃  ┖── <n><px1pl><nom> : >{B}{I}т \n",
            "┃  ┃  ┃  ┃  ┃  ┖── <n><px2pl> : >{G}{I}т CASES-NOM\n",
            "┃  ┃  ┃  ┃  ┃  ┃  ┖── <n><px2pl><nom> : >{G}{I}т \n",
            "┃  ┃  ┃  ┖── <n> :  POSS-PX3PL-NOM-SG\n",
            "┃  ┃  ┃  ┃  ┠── <n><px3pl> : >{L}{A}р{A} CASES-NOM\n",
            "┃  ┃  ┃  ┃  ┃  ┖── <n><px3pl><nom> : >{L}{A}р{A} \n",
            "┃  ┃  ┃  ┃  ┖── <n><px3sg> : >{t}{A} CASES-NOM\n",
            "┃  ┃  ┃  ┃  ┃  ┖── <n><px3sg><nom> : >{t}{A} \n",
            "┃  ┃  ┠── <n> :  POSS-OBL-SG\n",
            "┃  ┃  ┃  ┠── <n> :  POSS-OBL\n",
            "┃  ┃  ┃  ┃  ┠── <n> :  CASES-ETC\n",
            "┃  ┃  ┃  ┃  ┃  ┖── <n> :  GENPOSS-ETC\n",
            "┃  ┃  ┃  ┃  ┃  ┃  ┖── <n><loc> : >{T}{A}{A}ҕ{I} ATTR-SUBST\n",
            "┃  ┃  ┃  ┃  ┃  ┃  ┃  ┠── <n><loc><subst> : >{T}{A}{A}ҕ{I} CASES-NOM\n",
            "┃  ┃  ┃  ┃  ┃  ┃  ┃  ┃  ┖── <n><loc><subst><nom> : >{T}{A}{A}ҕ{I} \n",
            "┃  ┃  ┃  ┃  ┃  ┃  ┃  ┠── <n><loc><subst> : >{T}{A}{A}ҕ{I} CASES-OBL\n",
            "┃  ┃  ┃  ┃  ┃  ┃  ┃  ┠── <n><loc><subst><pl> : >{T}{A}{A}ҕ{I}>{L}{A}р CASES-NOM\n",
            "┃  ┃  ┃  ┃  ┃  ┃  ┃  ┃  ┖── <n><loc><subst><pl><nom> : >{T}{A}{A}ҕ{I}>{L}{A}р \n",
            "┃  ┃  ┃  ┃  ┃  ┃  ┃  ┖── <n><loc><subst><pl> : >{T}{A}{A}ҕ{I}>{L}{A}р CASES-OBL\n",
            "┃  ┃  ┃  ┃  ┠── <n><px1sg> : >{B}{I} CASES-POSS-12SG\n",
            "┃  ┃  ┃  ┃  ┠── <n><px2sg> : >{G}{I} CASES-POSS-12SG\n",
            "┃  ┃  ┃  ┃  ┠── <n><px1pl> : >{B}{I}т{I} CASES-POSS-3SP\n",
            "┃  ┃  ┃  ┃  ┖── <n><px2pl> : >{G}{I}т{I} CASES-POSS-3SP\n",
            "┃  ┃  ┃  ┖── <n> :  POSS-PX3PL-OBL-SG\n",
            "┃  ┃  ┃  ┃  ┠── <n><px3pl> : >{L}{A}р{I} CASES-POSS-3SP\n",
            "┃  ┃  ┃  ┃  ┖── <n><px3sg> : >{t}{I} CASES-POSS-3SP\n",
            "┃  ┃  ┖── <n> :  CASES\n",
            "┃  ┃  ┃  ┠── <n> :  CASES-NOM\n",
            "┃  ┃  ┃  ┃  ┖── <n><nom> :  \n",
            "┃  ┃  ┃  ┖── <n> :  CASES-OBL\n",
            "┃  ┖── <n><pl> : >{L}{A}р N-INFL-COMMON-PL\n",
            "┃  ┃  ┠── <n><pl> : >{L}{A}р POSS-NOM-PL\n",
            "┃  ┃  ┃  ┠── <n><pl> : >{L}{A}р POSS-NOM\n",
            "┃  ┃  ┃  ┃  ┠── <n><pl> : >{L}{A}р CASES-ETC\n",
            "┃  ┃  ┃  ┃  ┃  ┖── <n><pl> : >{L}{A}р GENPOSS-ETC\n",
            "┃  ┃  ┃  ┃  ┃  ┃  ┖── <n><pl><loc> : >{L}{A}р>{T}{A}{A}ҕ{I} ATTR-SUBST\n",
            "┃  ┃  ┃  ┃  ┃  ┃  ┃  ┠── <n><pl><loc><subst> : >{L}{A}р>{T}{A}{A}ҕ{I} CASES-NOM\n",
            "┃  ┃  ┃  ┃  ┃  ┃  ┃  ┃  ┖── <n><pl><loc><subst><nom> : >{L}{A}р>{T}{A}{A}ҕ{I} \n",
            "┃  ┃  ┃  ┃  ┃  ┃  ┃  ┠── <n><pl><loc><subst> : >{L}{A}р>{T}{A}{A}ҕ{I} CASES-OBL\n",
            "┃  ┃  ┃  ┃  ┃  ┃  ┃  ┠── <n><pl><loc><subst><pl> : >{L}{A}р>{T}{A}{A}ҕ{I}>{L}{A}р CASES-NOM\n",
            "┃  ┃  ┃  ┃  ┃  ┃  ┃  ┃  ┖── <n><pl><loc><subst><pl><nom> : >{L}{A}р>{T}{A}{A}ҕ{I}>{L}{A}р \n",
            "┃  ┃  ┃  ┃  ┃  ┃  ┃  ┖── <n><pl><loc><subst><pl> : >{L}{A}р>{T}{A}{A}ҕ{I}>{L}{A}р CASES-OBL\n",
            "┃  ┃  ┃  ┃  ┖── <n><pl> : >{L}{A}р POSS-NOM-ENDINGS\n",
            "┃  ┃  ┃  ┃  ┃  ┠── <n><pl><px1sg> : >{L}{A}р>{i}м CASES-NOM\n",
            "┃  ┃  ┃  ┃  ┃  ┃  ┖── <n><pl><px1sg><nom> : >{L}{A}р>{i}м \n",
            "┃  ┃  ┃  ┃  ┃  ┠── <n><pl><px2sg> : >{L}{A}р>{i}ҥ CASES-NOM\n",
            "┃  ┃  ┃  ┃  ┃  ┃  ┖── <n><pl><px2sg><nom> : >{L}{A}р>{i}ҥ \n",
            "┃  ┃  ┃  ┃  ┃  ┠── <n><pl><px1pl> : >{L}{A}р>{B}{I}т CASES-NOM\n",
            "┃  ┃  ┃  ┃  ┃  ┃  ┖── <n><pl><px1pl><nom> : >{L}{A}р>{B}{I}т \n",
            "┃  ┃  ┃  ┃  ┃  ┖── <n><pl><px2pl> : >{L}{A}р>{G}{I}т CASES-NOM\n",
            "┃  ┃  ┃  ┃  ┃  ┃  ┖── <n><pl><px2pl><nom> : >{L}{A}р>{G}{I}т \n",
            "┃  ┃  ┃  ┖── <n><pl> : >{L}{A}р POSS-PX3PL-NOM-PL\n",
            "┃  ┃  ┃  ┃  ┖── <n><pl><px3sp> : >{L}{A}р>{t}{A} CASES-NOM\n",
            "┃  ┃  ┃  ┃  ┃  ┖── <n><pl><px3sp><nom> : >{L}{A}р>{t}{A} \n",
            "┃  ┃  ┠── <n><pl> : >{L}{A}р POSS-OBL-PL\n",
            "┃  ┃  ┃  ┠── <n><pl> : >{L}{A}р POSS-OBL\n",
            "┃  ┃  ┃  ┃  ┠── <n><pl> : >{L}{A}р CASES-ETC\n",
            "┃  ┃  ┃  ┃  ┃  ┖── <n><pl> : >{L}{A}р GENPOSS-ETC\n",
            "┃  ┃  ┃  ┃  ┃  ┃  ┖── <n><pl><loc> : >{L}{A}р>{T}{A}{A}ҕ{I} ATTR-SUBST\n",
            "┃  ┃  ┃  ┃  ┃  ┃  ┃  ┠── <n><pl><loc><subst> : >{L}{A}р>{T}{A}{A}ҕ{I} CASES-NOM\n",
            "┃  ┃  ┃  ┃  ┃  ┃  ┃  ┃  ┖── <n><pl><loc><subst><nom> : >{L}{A}р>{T}{A}{A}ҕ{I} \n",
            "┃  ┃  ┃  ┃  ┃  ┃  ┃  ┠── <n><pl><loc><subst> : >{L}{A}р>{T}{A}{A}ҕ{I} CASES-OBL\n",
            "┃  ┃  ┃  ┃  ┃  ┃  ┃  ┠── <n><pl><loc><subst><pl> : >{L}{A}р>{T}{A}{A}ҕ{I}>{L}{A}р CASES-NOM\n",
            "┃  ┃  ┃  ┃  ┃  ┃  ┃  ┃  ┖── <n><pl><loc><subst><pl><nom> : >{L}{A}р>{T}{A}{A}ҕ{I}>{L}{A}р \n",
            "┃  ┃  ┃  ┃  ┃  ┃  ┃  ┖── <n><pl><loc><subst><pl> : >{L}{A}р>{T}{A}{A}ҕ{I}>{L}{A}р CASES-OBL\n",
            "┃  ┃  ┃  ┃  ┠── <n><pl><px1sg> : >{L}{A}р>{B}{I} CASES-POSS-12SG\n",
            "┃  ┃  ┃  ┃  ┠── <n><pl><px2sg> : >{L}{A}р>{G}{I} CASES-POSS-12SG\n",
            "┃  ┃  ┃  ┃  ┠── <n><pl><px1pl> : >{L}{A}р>{B}{I}т{I} CASES-POSS-3SP\n",
            "┃  ┃  ┃  ┃  ┖── <n><pl><px2pl> : >{L}{A}р>{G}{I}т{I} CASES-POSS-3SP\n",
            "┃  ┃  ┃  ┖── <n><pl> : >{L}{A}р POSS-PX3PL-OBL-PL\n",
            "┃  ┃  ┃  ┃  ┖── <n><pl><px3sp> : >{L}{A}р>{t}{I} CASES-POSS-3SP\n",
            "┃  ┃  ┖── <n><pl> : >{L}{A}р CASES\n",
            "┃  ┃  ┃  ┠── <n><pl> : >{L}{A}р CASES-NOM\n",
            "┃  ┃  ┃  ┃  ┖── <n><pl><nom> : >{L}{A}р \n",
            "┃  ┃  ┃  ┖── <n><pl> : >{L}{A}р CASES-OBL\n",
            "┖── <n> :  LII-POSTPOSITION\n",
            "┃  ┖── <n>+лыы<post> : >{L}{I}{I} \n",
            "None\n"
          ]
        }
      ]
    },
    {
      "cell_type": "code",
      "source": [],
      "metadata": {
        "id": "AvGUsgHduBqo"
      },
      "execution_count": null,
      "outputs": []
    }
  ]
}