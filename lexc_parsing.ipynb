{
  "nbformat": 4,
  "nbformat_minor": 0,
  "metadata": {
    "colab": {
      "provenance": [],
      "authorship_tag": "ABX9TyOEpIcD4NoG4BbADvkIxSB6",
      "include_colab_link": true
    },
    "kernelspec": {
      "name": "python3",
      "display_name": "Python 3"
    },
    "language_info": {
      "name": "python"
    }
  },
  "cells": [
    {
      "cell_type": "markdown",
      "metadata": {
        "id": "view-in-github",
        "colab_type": "text"
      },
      "source": [
        "<a href=\"https://colab.research.google.com/github/elleish/sakha-language-tools/blob/main/lexc_parsing.ipynb\" target=\"_parent\"><img src=\"https://colab.research.google.com/assets/colab-badge.svg\" alt=\"Open In Colab\"/></a>"
      ]
    },
    {
      "cell_type": "code",
      "execution_count": 1,
      "metadata": {
        "colab": {
          "base_uri": "https://localhost:8080/"
        },
        "id": "Z_eMZ_PbPOm-",
        "outputId": "ee7c6d9a-a9e2-48ba-ca04-a6caa637528a"
      },
      "outputs": [
        {
          "output_type": "stream",
          "name": "stdout",
          "text": [
            "--2023-10-13 13:33:10--  https://raw.githubusercontent.com/apertium/apertium-sah/master/apertium-sah.sah.lexc\n",
            "Resolving raw.githubusercontent.com (raw.githubusercontent.com)... 185.199.108.133, 185.199.109.133, 185.199.110.133, ...\n",
            "Connecting to raw.githubusercontent.com (raw.githubusercontent.com)|185.199.108.133|:443... connected.\n",
            "HTTP request sent, awaiting response... 200 OK\n",
            "Length: 1841535 (1.8M) [text/plain]\n",
            "Saving to: ‘apertium-sah.sah.lexc’\n",
            "\n",
            "\rapertium-sah.sah.le   0%[                    ]       0  --.-KB/s               \rapertium-sah.sah.le 100%[===================>]   1.76M  --.-KB/s    in 0.05s   \n",
            "\n",
            "2023-10-13 13:33:10 (35.0 MB/s) - ‘apertium-sah.sah.lexc’ saved [1841535/1841535]\n",
            "\n"
          ]
        }
      ],
      "source": [
        "!wget https://raw.githubusercontent.com/apertium/apertium-sah/master/apertium-sah.sah.lexc"
      ]
    },
    {
      "cell_type": "code",
      "source": [
        "f = open(\"apertium-sah.sah.lexc\", \"r\")\n",
        "lexc = f.read()\n",
        "print(lexc[:100])"
      ],
      "metadata": {
        "colab": {
          "base_uri": "https://localhost:8080/"
        },
        "id": "tju3jncpPXSY",
        "outputId": "569e08ce-e8a5-4298-89b0-c5e03f7aac46"
      },
      "execution_count": 3,
      "outputs": [
        {
          "output_type": "stream",
          "name": "stdout",
          "text": [
            "!!!!!!!!!!!!!!!!!!!!!!!!!!!!!!!!!!!!!!!!!!!!!!!!!!!!!!!!!!!!!!!!!!!!!!!!!!!!!!!\n",
            "!!       М О Р Ф О Л\n"
          ]
        }
      ]
    },
    {
      "cell_type": "code",
      "source": [
        "\n",
        "def multichar_symbols(lexc):\n",
        "    lines = lexc.split(\"\\n\")\n",
        "    tags, archiphonems = [], []\n",
        "    for line in lines:\n",
        "        if line.startswith(\"%<\"):\n",
        "          tags.append(line[2:].split(\"%>\")[0])\n",
        "        elif line.startswith(\"%{\"):\n",
        "          archiphonems.append(line[2:].split(\"%}\")[0])\n",
        "        elif line.startswith('LEXICON'):\n",
        "          return tags, archiphonems\n",
        "    return tags, archiphonems\n",
        "\n",
        "\n",
        "def lexicon_roots(lexc):\n",
        "    lines = lexc.split(\"\\n\")\n",
        "    roots, lexicon_roots_bool = [], False\n",
        "    for line in lines:\n",
        "        if line.startswith(\"LEXICON Root\"):\n",
        "            lexicon_roots_bool = True\n",
        "        elif line.startswith(\"LEXICON\"):\n",
        "            return roots\n",
        "        elif \";\" in line and lexicon_roots_bool:\n",
        "            lexicon = line.split(\";\")[0]\n",
        "            roots.append(lexicon.strip())\n",
        "    return roots\n",
        "\n",
        "def lexicons(lexc):\n",
        "    lines = lexc.split(\"\\n\")\n",
        "    roots, lexicon_roots_bool = [], False\n",
        "    for line in lines:\n",
        "        if line.startswith(\"LEXICON Root\"):\n",
        "            lexicon_roots_bool = True\n",
        "        elif line.startswith(\"LEXICON\"):\n",
        "            return roots\n",
        "        elif \";\" in line and lexicon_roots_bool:\n",
        "            lexicon = line.split(\";\")[0]\n",
        "            roots.append(lexicon.strip())\n",
        "    return roots"
      ],
      "metadata": {
        "id": "-1j9Sha3P5WX"
      },
      "execution_count": 44,
      "outputs": []
    },
    {
      "cell_type": "code",
      "source": [
        "tags, archiphonems = multichar_symbols(lexc)\n",
        "roots = lexicon_roots(lexc)\n"
      ],
      "metadata": {
        "id": "jVOWswGzS45A"
      },
      "execution_count": 45,
      "outputs": []
    },
    {
      "cell_type": "code",
      "source": [
        "roots"
      ],
      "metadata": {
        "colab": {
          "base_uri": "https://localhost:8080/"
        },
        "id": "nj8owlh3TzWE",
        "outputId": "5e004d0b-be7d-4090-b0c6-d9c4b14ae09f"
      },
      "execution_count": 46,
      "outputs": [
        {
          "output_type": "execute_result",
          "data": {
            "text/plain": [
              "['Miscellaneous',\n",
              " 'Copula',\n",
              " 'Conjunctions',\n",
              " 'Postpositions',\n",
              " 'Determiners',\n",
              " 'Pronouns',\n",
              " 'Numerals',\n",
              " 'Nouns',\n",
              " 'ProperNouns',\n",
              " 'Adjectives',\n",
              " 'Adverbs',\n",
              " 'Verbs',\n",
              " 'Interjections',\n",
              " 'Abbreviations',\n",
              " 'Punctuation',\n",
              " 'Digits',\n",
              " 'Guesser',\n",
              " 'Modals']"
            ]
          },
          "metadata": {},
          "execution_count": 46
        }
      ]
    },
    {
      "cell_type": "code",
      "source": [],
      "metadata": {
        "id": "-mA-RKFkWzAF"
      },
      "execution_count": null,
      "outputs": []
    }
  ]
}